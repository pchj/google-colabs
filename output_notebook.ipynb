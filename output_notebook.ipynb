{
  "cells": [
    {
      "cell_type": "markdown",
      "id": "287d1fa4",
      "metadata": {},
      "source": [
        "<a href=\"https://colab.research.google.com/github/pchj/google-colabs/blob/main/GDC_Parameters.ipynb\" target=\"_parent\"><img src=\"https://colab.research.google.com/assets/colab-badge.svg\" alt=\"Open In Colab\"/></a>"
      ]
    },
    {
      "cell_type": "markdown",
      "id": "8f8277e2",
      "metadata": {},
      "source": [
        "# Parameters for Air Quality"
      ]
    }
  ],
  "metadata": {},
  "nbformat": 4,
  "nbformat_minor": 5
}
